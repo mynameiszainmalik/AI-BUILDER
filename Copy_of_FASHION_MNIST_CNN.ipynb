{
  "nbformat": 4,
  "nbformat_minor": 0,
  "metadata": {
    "colab": {
      "provenance": [],
      "gpuType": "T4",
      "authorship_tag": "ABX9TyPiIiE1UtN/4+hfjRhWEbm8",
      "include_colab_link": true
    },
    "kernelspec": {
      "name": "python3",
      "display_name": "Python 3"
    },
    "language_info": {
      "name": "python"
    },
    "accelerator": "GPU"
  },
  "cells": [
    {
      "cell_type": "markdown",
      "metadata": {
        "id": "view-in-github",
        "colab_type": "text"
      },
      "source": [
        "<a href=\"https://colab.research.google.com/github/mynameiszainmalik/AI-BUILDER/blob/main/Copy_of_FASHION_MNIST_CNN.ipynb\" target=\"_parent\"><img src=\"https://colab.research.google.com/assets/colab-badge.svg\" alt=\"Open In Colab\"/></a>"
      ]
    },
    {
      "cell_type": "code",
      "execution_count": null,
      "metadata": {
        "colab": {
          "base_uri": "https://localhost:8080/"
        },
        "id": "QpUzl3cq1CAg",
        "outputId": "7135b3ac-88e9-4cff-a3b0-73e1ebc051fe"
      },
      "outputs": [
        {
          "output_type": "stream",
          "name": "stdout",
          "text": [
            "CUDA is available: True\n",
            "Current CUDA device: Tesla T4\n",
            "Using device: cuda\n",
            "Total GPU memory: 15.83 GB\n",
            "GPU Device Count: 1\n"
          ]
        }
      ],
      "source": [
        "# Cell 1: CUDA Setup and Verification\n",
        "import torch\n",
        "\n",
        "# Check CUDA availability\n",
        "print(f\"CUDA is available: {torch.cuda.is_available()}\")\n",
        "print(f\"Current CUDA device: {torch.cuda.get_device_name(0)}\")\n",
        "\n",
        "# Set default device\n",
        "device = torch.device(\"cuda\" if torch.cuda.is_available() else \"cpu\")\n",
        "print(f\"Using device: {device}\")\n",
        "\n",
        "# Print GPU memory info if available\n",
        "if torch.cuda.is_available():\n",
        "    print(f\"Total GPU memory: {torch.cuda.get_device_properties(0).total_memory / 1e9:.2f} GB\")\n",
        "    print(f\"GPU Device Count: {torch.cuda.device_count()}\")"
      ]
    },
    {
      "cell_type": "code",
      "source": [
        "\n",
        "!pwd  # Should show /content\n",
        "!ls -la /content/kaggle.json  # Verify kaggle.json exists"
      ],
      "metadata": {
        "colab": {
          "base_uri": "https://localhost:8080/"
        },
        "id": "UJofWjWx8IAO",
        "outputId": "82b5c8dc-b2b7-428c-dad0-7dc4daa4cc9e"
      },
      "execution_count": null,
      "outputs": [
        {
          "output_type": "stream",
          "name": "stdout",
          "text": [
            "/content\n",
            "-rw-r--r-- 1 root root 73 Jun  1 10:01 /content/kaggle.json\n"
          ]
        }
      ]
    },
    {
      "cell_type": "code",
      "source": [
        "# Cell 2: Setup Kaggle credentials\n",
        "!mkdir -p ~/.kaggle  # This will create the directory in the correct location\n",
        "!cp /content/kaggle.json ~/.kaggle/\n",
        "!chmod 600 ~/.kaggle/kaggle.json"
      ],
      "metadata": {
        "id": "vivH5cI29FIE"
      },
      "execution_count": null,
      "outputs": []
    },
    {
      "cell_type": "code",
      "source": [
        "# Cell 3: Verify setup\n",
        "!ls -la ~/.kaggle/kaggle.json\n",
        "# Test Kaggle API\n",
        "!kaggle datasets list --sort-by hottest"
      ],
      "metadata": {
        "colab": {
          "base_uri": "https://localhost:8080/"
        },
        "id": "7bHWoY499OHr",
        "outputId": "3a4c2510-4d8a-4ae8-dce5-724a305ab79f"
      },
      "execution_count": null,
      "outputs": [
        {
          "output_type": "stream",
          "name": "stdout",
          "text": [
            "-rw------- 1 root root 73 Jun  1 10:06 /root/.kaggle/kaggle.json\n",
            "ref                                                       title                                                 size  lastUpdated                 downloadCount  voteCount  usabilityRating  \n",
            "--------------------------------------------------------  ---------------------------------------------  -----------  --------------------------  -------------  ---------  ---------------  \n",
            "adilshamim8/social-media-addiction-vs-relationships       Students' Social Media Addiction                      7851  2025-05-10 14:38:02.713000           9500        136  1.0              \n",
            "jayaantanaath/student-habits-vs-academic-performance      Student Habits vs Academic Performance               19512  2025-04-12 10:49:08.663000          37208        654  1.0              \n",
            "rakeshkapilavai/extrovert-vs-introvert-behavior-data      Extrovert vs. Introvert Behavior Data                15392  2025-05-21 04:26:52.443000           2849         70  1.0              \n",
            "atharvasoundankar/ai-developer-productivity-dataset       🧠 AI Developer Productivity Dataset                   5992  2025-05-12 08:29:17.290000           3108        110  1.0              \n",
            "orvile/stress-and-sleep-patterns                          Stress and Sleep Patterns                            18327  2025-05-25 08:26:17.490000           1572         26  0.88235295       \n",
            "siddharth0935/himalayan-expeditions                       Himalayan Expeditions                              5666717  2025-05-20 09:59:29.017000           2236         67  1.0              \n",
            "ritalin56/kaggles-most-upvoted-datasets-overview          Kaggle’s Most Upvoted Datasets Overview               3536  2025-05-15 19:18:56.933000           1659        111  1.0              \n",
            "therohithanand/student-academic-performance-dataset       Student Academic Performance Dataset                 34336  2025-05-12 15:11:14.293000           1590         31  1.0              \n",
            "atomicd/retail-store-inventory-and-demand-forecasting     Retail Store Inventory and Demand Forecasting      1424032  2025-05-21 10:51:54.783000           1609         21  1.0              \n",
            "siddharth0935/airline-loyalty-program                     Airline Loyalty Program (Canada)                   2710876  2025-05-28 08:51:08.593000            609         24  1.0              \n",
            "brendanartley/openfwi-preprocessed-72x72                  OpenFWI Preprocessed 72x72                     21654834947  2025-05-20 17:38:01.250000           2907         37  1.0              \n",
            "jainaru/electric-car-sales-2010-2024                      Electric car sales (2010-2024)                       26302  2025-05-08 07:47:58.893000           3469         50  1.0              \n",
            "khushikyad001/cigarettes-and-alcohol-addiction            Cigarettes & Alcohol Addiction                      134636  2025-05-15 14:03:28.250000           1785         33  1.0              \n",
            "adilshamim8/educational-backgrounds-of-successful-people  Educational Backgrounds of Successful People          4114  2025-05-15 14:35:44.033000           1394         28  1.0              \n",
            "amldvvs/avocado-ripeness-classification-dataset           Avocado Ripeness Classification Dataset               3730  2025-05-09 19:48:49.707000           1146         30  1.0              \n",
            "yagizfiratt/nba-players-database                          NBA Player's Database                               204829  2025-05-14 11:18:37.803000           1509         28  1.0              \n",
            "atharvasoundankar/work-from-anywhere-salary-insight-2024  🌍Work-from-Anywhere Salary Insight (2024)            11372  2025-05-18 06:33:06.240000           1582         25  1.0              \n",
            "mahdimashayekhi/social-media-vs-productivity              Social Media vs Productivity                       2374382  2025-05-15 20:01:03.167000           2650         41  1.0              \n",
            "benjnb/global-street-food-dataset                         Global Street Food Dataset                           22779  2025-05-17 19:43:07.730000            986         22  0.7647059        \n",
            "fatemehmohammadinia/heart-attack-dataset-tarik-a-rashid   Heart Attack Dataset                                 16250  2025-04-30 21:58:22.740000           7547        116  1.0              \n"
          ]
        }
      ]
    },
    {
      "cell_type": "code",
      "source": [
        "# Cell 2: Library Installation and Import Check\n",
        "import sys\n",
        "import subprocess\n",
        "\n",
        "# Function to install missing packages\n",
        "def install_package(package):\n",
        "    subprocess.check_call([sys.executable, \"-m\", \"pip\", \"install\", package])\n",
        "\n",
        "# List of required packages\n",
        "required_packages = [\n",
        "    'torch',\n",
        "    'torchvision',\n",
        "    'numpy',\n",
        "    'pandas',\n",
        "    'matplotlib',\n",
        "    'tqdm'\n",
        "]\n",
        "\n",
        "# Check and install missing packages\n",
        "for package in required_packages:\n",
        "    try:\n",
        "        __import__(package)\n",
        "        print(f\"✓ {package} is already installed\")\n",
        "    except ImportError:\n",
        "        print(f\"Installing {package}...\")\n",
        "        install_package(package)\n",
        "\n",
        "# Import necessary libraries\n",
        "import torch\n",
        "import torchvision\n",
        "import numpy as np\n",
        "import pandas as pd\n",
        "import matplotlib.pyplot as plt\n",
        "from tqdm import tqdm\n",
        "\n",
        "# Set random seeds for reproducibility\n",
        "torch.manual_seed(42)\n",
        "np.random.seed(42)\n",
        "if torch.cuda.is_available():\n",
        "    torch.cuda.manual_seed_all(42)\n",
        "\n",
        "print(\"\\nAll required libraries are installed and imported successfully!\")"
      ],
      "metadata": {
        "colab": {
          "base_uri": "https://localhost:8080/"
        },
        "id": "xF9eEuyj6kLj",
        "outputId": "8c6ee6de-a114-4bfc-d55e-c75dc38faacd"
      },
      "execution_count": null,
      "outputs": [
        {
          "output_type": "stream",
          "name": "stdout",
          "text": [
            "✓ torch is already installed\n",
            "✓ torchvision is already installed\n",
            "✓ numpy is already installed\n",
            "✓ pandas is already installed\n",
            "✓ matplotlib is already installed\n",
            "✓ tqdm is already installed\n",
            "\n",
            "All required libraries are installed and imported successfully!\n"
          ]
        }
      ]
    },
    {
      "cell_type": "code",
      "source": [
        "# Cell 3: Kaggle Dataset Setup Guide\n",
        "\n",
        "\"\"\"\n",
        "Step 1: Set up Kaggle API credentials\n",
        "1. Go to kaggle.com and sign in\n",
        "2. Go to 'Account' tab\n",
        "3. Scroll to API section and click 'Create New API Token'\n",
        "4. This will download 'kaggle.json' file\n",
        "5. Create .kaggle directory and move the file:\n",
        "\"\"\"\n",
        "\n",
        "# Instructions for uploading kaggle.json\n",
        "print(\"IMPORTANT: Upload your kaggle.json file to the session.\")\n",
        "print(\"You can do this by:\")\n",
        "print(\"1. Drag and drop the kaggle.json file to Colab's file browser\")\n",
        "print(\"2. Run the following command to move it to the right location:\")\n",
        "print(\"   !cp kaggle.json ~/.kaggle/\")\n",
        "print(\"3. Set appropriate permissions:\")\n",
        "print(\"   !chmod 600 ~/.kaggle/kaggle.json\")\n",
        "\n",
        "# Download Fashion MNIST dataset\n",
        "!kaggle datasets download -d zalando-research/fashionmnist\n",
        "\n",
        "# Extract the downloaded zip file\n",
        "!unzip fashionmnist.zip\n",
        "\n",
        "# Basic dataset inspection\n",
        "import pandas as pd\n",
        "\n",
        "# Load and peek at the data\n",
        "try:\n",
        "    train_data = pd.read_csv('fashion-mnist_train.csv')\n",
        "    test_data = pd.read_csv('fashion-mnist_test.csv')\n",
        "\n",
        "    print(\"\\nDataset Information:\")\n",
        "    print(f\"Training set shape: {train_data.shape}\")\n",
        "    print(f\"Test set shape: {test_data.shape}\")\n",
        "    print(\"\\nFirst few columns of training data:\")\n",
        "    print(train_data.columns[:10])\n",
        "\n",
        "except FileNotFoundError:\n",
        "    print(\"\\nPlease ensure you've completed the Kaggle API setup steps above!\")"
      ],
      "metadata": {
        "colab": {
          "base_uri": "https://localhost:8080/"
        },
        "id": "k-Al_9QT9oZO",
        "outputId": "7f9acde1-64bb-4b4b-c664-f154568555ad"
      },
      "execution_count": null,
      "outputs": [
        {
          "output_type": "stream",
          "name": "stdout",
          "text": [
            "IMPORTANT: Upload your kaggle.json file to the session.\n",
            "You can do this by:\n",
            "1. Drag and drop the kaggle.json file to Colab's file browser\n",
            "2. Run the following command to move it to the right location:\n",
            "   !cp kaggle.json ~/.kaggle/\n",
            "3. Set appropriate permissions:\n",
            "   !chmod 600 ~/.kaggle/kaggle.json\n",
            "Dataset URL: https://www.kaggle.com/datasets/zalando-research/fashionmnist\n",
            "License(s): other\n",
            "Downloading fashionmnist.zip to /content\n",
            "  0% 0.00/68.8M [00:00<?, ?B/s]\n",
            "100% 68.8M/68.8M [00:00<00:00, 1.13GB/s]\n",
            "Archive:  fashionmnist.zip\n",
            "  inflating: fashion-mnist_test.csv  \n",
            "  inflating: fashion-mnist_train.csv  \n",
            "  inflating: t10k-images-idx3-ubyte  \n",
            "  inflating: t10k-labels-idx1-ubyte  \n",
            "  inflating: train-images-idx3-ubyte  \n",
            "  inflating: train-labels-idx1-ubyte  \n",
            "\n",
            "Dataset Information:\n",
            "Training set shape: (60000, 785)\n",
            "Test set shape: (10000, 785)\n",
            "\n",
            "First few columns of training data:\n",
            "Index(['label', 'pixel1', 'pixel2', 'pixel3', 'pixel4', 'pixel5', 'pixel6',\n",
            "       'pixel7', 'pixel8', 'pixel9'],\n",
            "      dtype='object')\n"
          ]
        }
      ]
    },
    {
      "cell_type": "code",
      "source": [
        "# Load and display the training data structure\n",
        "import pandas as pd\n",
        "import numpy as np\n",
        "\n",
        "# Load the data\n",
        "train_data = pd.read_csv('fashion-mnist_train.csv')\n",
        "\n",
        "# Display first few rows with clear formatting\n",
        "print(\"\\nFirst 5 rows of the training dataset:\")\n",
        "print(\"\\nShape of training data:\", train_data.shape)  # Should show (60000, 785)\n",
        "print(\"\\nColumn names:\", train_data.columns[:10], \"...\")  # Show first 10 column names\n",
        "print(\"\\nFirst 5 rows and 10 columns:\")\n",
        "print(train_data.iloc[:5, :10])  # Show first 5 rows and 10 columns\n",
        "\n",
        "# Let's also verify the label at position (0,0)\n",
        "print(\"\\nValue at position (0,0) (first label):\", train_data.iloc[0,0])\n",
        "print(\"Class name for this label:\", class_labels[train_data.iloc[0,0]])\n",
        "\n",
        "# Show data types of columns\n",
        "print(\"\\nData types of columns:\")\n",
        "print(train_data.dtypes.head())\n",
        "\n",
        "# Basic statistics of first few pixels\n",
        "print(\"\\nBasic statistics of first few columns:\")\n",
        "print(train_data.describe().iloc[:, :5])"
      ],
      "metadata": {
        "colab": {
          "base_uri": "https://localhost:8080/"
        },
        "id": "yObAeC9KBBMx",
        "outputId": "af269cd3-0b93-447e-89d2-092d9cc043d0"
      },
      "execution_count": null,
      "outputs": [
        {
          "output_type": "stream",
          "name": "stdout",
          "text": [
            "\n",
            "First 5 rows of the training dataset:\n",
            "\n",
            "Shape of training data: (60000, 785)\n",
            "\n",
            "Column names: Index(['label', 'pixel1', 'pixel2', 'pixel3', 'pixel4', 'pixel5', 'pixel6',\n",
            "       'pixel7', 'pixel8', 'pixel9'],\n",
            "      dtype='object') ...\n",
            "\n",
            "First 5 rows and 10 columns:\n",
            "   label  pixel1  pixel2  pixel3  pixel4  pixel5  pixel6  pixel7  pixel8  \\\n",
            "0      2       0       0       0       0       0       0       0       0   \n",
            "1      9       0       0       0       0       0       0       0       0   \n",
            "2      6       0       0       0       0       0       0       0       5   \n",
            "3      0       0       0       0       1       2       0       0       0   \n",
            "4      3       0       0       0       0       0       0       0       0   \n",
            "\n",
            "   pixel9  \n",
            "0       0  \n",
            "1       0  \n",
            "2       0  \n",
            "3       0  \n",
            "4       0  \n",
            "\n",
            "Value at position (0,0) (first label): 2\n",
            "Class name for this label: Pullover\n",
            "\n",
            "Data types of columns:\n",
            "label     int64\n",
            "pixel1    int64\n",
            "pixel2    int64\n",
            "pixel3    int64\n",
            "pixel4    int64\n",
            "dtype: object\n",
            "\n",
            "Basic statistics of first few columns:\n",
            "              label        pixel1        pixel2        pixel3        pixel4\n",
            "count  60000.000000  60000.000000  60000.000000  60000.000000  60000.000000\n",
            "mean       4.500000      0.000900      0.006150      0.035333      0.101933\n",
            "std        2.872305      0.094689      0.271011      1.222324      2.452871\n",
            "min        0.000000      0.000000      0.000000      0.000000      0.000000\n",
            "25%        2.000000      0.000000      0.000000      0.000000      0.000000\n",
            "50%        4.500000      0.000000      0.000000      0.000000      0.000000\n",
            "75%        7.000000      0.000000      0.000000      0.000000      0.000000\n",
            "max        9.000000     16.000000     36.000000    226.000000    164.000000\n"
          ]
        }
      ]
    },
    {
      "cell_type": "code",
      "source": [
        "# Cell 1: Data Understanding and Visualization\n",
        "import numpy as np\n",
        "import pandas as pd\n",
        "import matplotlib.pyplot as plt\n",
        "import seaborn as sns\n",
        "\n",
        "# Define class labels for Fashion MNIST\n",
        "class_labels = {\n",
        "    0: 'T-shirt/Top',\n",
        "    1: 'Trouser',\n",
        "    2: 'Pullover',\n",
        "    3: 'Dress',\n",
        "    4: 'Coat',\n",
        "    5: 'Sandal',\n",
        "    6: 'Shirt',\n",
        "    7: 'Sneaker',\n",
        "    8: 'Bag',\n",
        "    9: 'Ankle Boot'\n",
        "}\n",
        "\n",
        "# Load the data\n",
        "train_data = pd.read_csv('fashion-mnist_train.csv')\n",
        "test_data = pd.read_csv('fashion-mnist_test.csv')\n",
        "\n",
        "# Basic statistics\n",
        "print(\"Dataset Overview:\")\n",
        "print(f\"Training samples: {len(train_data)}\")\n",
        "print(f\"Testing samples: {len(test_data)}\")\n",
        "print(f\"Image dimensions: {int(np.sqrt(train_data.shape[1] - 1))}x{int(np.sqrt(train_data.shape[1] - 1))}\")\n",
        "print(\"\\nClass Distribution in Training Set:\")\n",
        "print(train_data['label'].value_counts().sort_index().to_string())\n",
        "\n",
        "\n",
        "\n"
      ],
      "metadata": {
        "colab": {
          "base_uri": "https://localhost:8080/"
        },
        "id": "eSAqbnah-kAc",
        "outputId": "3078f8cc-a53f-4349-ae14-1538bce9a298"
      },
      "execution_count": null,
      "outputs": [
        {
          "output_type": "stream",
          "name": "stdout",
          "text": [
            "Dataset Overview:\n",
            "Training samples: 60000\n",
            "Testing samples: 10000\n",
            "Image dimensions: 28x28\n",
            "\n",
            "Class Distribution in Training Set:\n",
            "label\n",
            "0    6000\n",
            "1    6000\n",
            "2    6000\n",
            "3    6000\n",
            "4    6000\n",
            "5    6000\n",
            "6    6000\n",
            "7    6000\n",
            "8    6000\n",
            "9    6000\n"
          ]
        }
      ]
    },
    {
      "cell_type": "code",
      "source": [
        "# Visualize class distribution\n",
        "plt.figure(figsize=(12, 4))\n",
        "sns.countplot(data=train_data, x='label')\n",
        "\n",
        "plt.title('Class Distribution in Training Set')\n",
        "plt.xlabel('Class Labels')\n",
        "plt.ylabel('Count')\n",
        "plt.xticks(range(10), [class_labels[i] for i in range(10)], rotation=45)\n",
        "plt.show()"
      ],
      "metadata": {
        "colab": {
          "base_uri": "https://localhost:8080/",
          "height": 459
        },
        "id": "KVstvHqUDuOH",
        "outputId": "91e138a9-a4a8-47f4-8821-67343d0dc0f1"
      },
      "execution_count": null,
      "outputs": [
        {
          "output_type": "display_data",
          "data": {
            "text/plain": [
              "<Figure size 1200x400 with 1 Axes>"
            ],
            "image/png": "[encoded data removed]"
          },
          "metadata": {}
        }
      ]
    },
    {
      "cell_type": "code",
      "source": [
        "# Visualize sample images\n",
        "plt.figure(figsize=(15, 8))\n",
        "for i in range(10):\n",
        "    plt.subplot(2, 5, i+1)\n",
        "    img = train_data.iloc[i, 1:].values.reshape(28, 28)\n",
        "    plt.imshow(img, cmap='gray')\n",
        "    plt.title(f'{class_labels[train_data.iloc[i, 0]]}')\n",
        "    plt.axis('off')\n",
        "plt.tight_layout()\n",
        "plt.show()\n",
        "\n"
      ],
      "metadata": {
        "colab": {
          "base_uri": "https://localhost:8080/",
          "height": 512
        },
        "id": "Bgatbn2PDfxs",
        "outputId": "3c10a099-c2b0-464b-ac83-4a9186d5ab0d"
      },
      "execution_count": null,
      "outputs": [
        {
          "output_type": "display_data",
          "data": {
            "text/plain": [
              "<Figure size 1500x800 with 10 Axes>"
            ],
            "image/png": "[encoded data removed]"
          },
          "metadata": {}
        }
      ]
    },
    {
      "cell_type": "code",
      "source": [
        "# Check for missing values\n",
        "print(\"\\nMissing Values Check:\")\n",
        "print(train_data.isnull().sum().sum())\n",
        "\n",
        "# Check data statistics\n",
        "print(\"\\nPixel Value Statistics:\")\n",
        "print(train_data.iloc[:, 1:].describe())"
      ],
      "metadata": {
        "colab": {
          "base_uri": "https://localhost:8080/"
        },
        "id": "Kidor-ODEe5s",
        "outputId": "23909b91-7f23-402a-d105-8f3afc712312"
      },
      "execution_count": null,
      "outputs": [
        {
          "output_type": "stream",
          "name": "stdout",
          "text": [
            "\n",
            "Missing Values Check:\n",
            "0\n",
            "\n",
            "Pixel Value Statistics:\n",
            "             pixel1        pixel2        pixel3        pixel4        pixel5  \\\n",
            "count  60000.000000  60000.000000  60000.000000  60000.000000  60000.000000   \n",
            "mean       0.000900      0.006150      0.035333      0.101933      0.247967   \n",
            "std        0.094689      0.271011      1.222324      2.452871      4.306912   \n",
            "min        0.000000      0.000000      0.000000      0.000000      0.000000   \n",
            "25%        0.000000      0.000000      0.000000      0.000000      0.000000   \n",
            "50%        0.000000      0.000000      0.000000      0.000000      0.000000   \n",
            "75%        0.000000      0.000000      0.000000      0.000000      0.000000   \n",
            "max       16.000000     36.000000    226.000000    164.000000    227.000000   \n",
            "\n",
            "             pixel6        pixel7        pixel8        pixel9       pixel10  \\\n",
            "count  60000.000000  60000.000000  60000.000000  60000.000000  60000.000000   \n",
            "mean       0.411467      0.805767      2.198283      5.682000     14.488767   \n",
            "std        5.836188      8.215169     14.093378     23.819481     38.334549   \n",
            "min        0.000000      0.000000      0.000000      0.000000      0.000000   \n",
            "25%        0.000000      0.000000      0.000000      0.000000      0.000000   \n",
            "50%        0.000000      0.000000      0.000000      0.000000      0.000000   \n",
            "75%        0.000000      0.000000      0.000000      0.000000      0.000000   \n",
            "max      230.000000    224.000000    255.000000    254.000000    255.000000   \n",
            "\n",
            "       ...      pixel775      pixel776      pixel777      pixel778  \\\n",
            "count  ...  60000.000000  60000.000000  60000.000000  60000.000000   \n",
            "mean   ...     34.625400     23.300683     16.588267     17.869433   \n",
            "std    ...     57.545242     48.854427     41.979611     43.966032   \n",
            "min    ...      0.000000      0.000000      0.000000      0.000000   \n",
            "25%    ...      0.000000      0.000000      0.000000      0.000000   \n",
            "50%    ...      0.000000      0.000000      0.000000      0.000000   \n",
            "75%    ...     58.000000      9.000000      0.000000      0.000000   \n",
            "max    ...    255.000000    255.000000    255.000000    255.000000   \n",
            "\n",
            "           pixel779      pixel780      pixel781      pixel782      pixel783  \\\n",
            "count  60000.000000  60000.000000  60000.000000  60000.000000  60000.000000   \n",
            "mean      22.814817     17.911483      8.520633      2.753300      0.855517   \n",
            "std       51.830477     45.149388     29.614859     17.397652      9.356960   \n",
            "min        0.000000      0.000000      0.000000      0.000000      0.000000   \n",
            "25%        0.000000      0.000000      0.000000      0.000000      0.000000   \n",
            "50%        0.000000      0.000000      0.000000      0.000000      0.000000   \n",
            "75%        0.000000      0.000000      0.000000      0.000000      0.000000   \n",
            "max      255.000000    255.000000    255.000000    255.000000    255.000000   \n",
            "\n",
            "          pixel784  \n",
            "count  60000.00000  \n",
            "mean       0.07025  \n",
            "std        2.12587  \n",
            "min        0.00000  \n",
            "25%        0.00000  \n",
            "50%        0.00000  \n",
            "75%        0.00000  \n",
            "max      170.00000  \n",
            "\n",
            "[8 rows x 784 columns]\n"
          ]
        }
      ]
    },
    {
      "cell_type": "code",
      "source": [
        "# Cell 1: Import necessary libraries and set up data transformations\n",
        "import torch\n",
        "from torch.utils.data import Dataset, DataLoader\n",
        "from torchvision import transforms\n",
        "from sklearn.model_selection import train_test_split\n",
        "import numpy as np\n",
        "\n",
        "# Check if we're still on CUDA\n",
        "print(f\"Using CUDA: {torch.cuda.is_available()}\")\n",
        "device = torch.device(\"cuda\" if torch.cuda.is_available() else \"cpu\")\n",
        "print(f\"Device: {device}\")"
      ],
      "metadata": {
        "colab": {
          "base_uri": "https://localhost:8080/"
        },
        "id": "vt65eXeYFygM",
        "outputId": "bb90dc96-ef9b-4e19-c92d-7d0d8d4c80d6"
      },
      "execution_count": null,
      "outputs": [
        {
          "output_type": "stream",
          "name": "stdout",
          "text": [
            "Using CUDA: True\n",
            "Device: cuda\n"
          ]
        }
      ]
    },
    {
      "cell_type": "code",
      "source": [
        "# Cell 2: Create Custom Dataset Class\n",
        "class FashionMNISTDataset(Dataset):\n",
        "    def __init__(self, data, transform=None):\n",
        "        self.data = data\n",
        "        self.transform = transform\n",
        "\n",
        "        # Get features and labels\n",
        "        self.features = data.iloc[:, 1:].values.astype('float32')\n",
        "        self.labels = data.iloc[:, 0].values\n",
        "\n",
        "    def __len__(self):\n",
        "        return len(self.data)\n",
        "\n",
        "    def __getitem__(self, idx):\n",
        "        # Reshape to 28x28 image\n",
        "        image = self.features[idx].reshape(28, 28)\n",
        "        label = self.labels[idx]\n",
        "\n",
        "        if self.transform:\n",
        "            # Convert to PIL Image for transforms\n",
        "            image = transforms.ToPILImage()(image)\n",
        "            image = self.transform(image)\n",
        "\n",
        "        return image, label\n",
        "\n",
        "# Let's verify our Dataset class works\n",
        "sample_dataset = FashionMNISTDataset(train_data[:5])  # Test with first 5 samples\n",
        "print(\"\\nTesting Dataset Class:\")\n",
        "print(f\"Dataset size: {len(sample_dataset)}\")\n",
        "sample_image, sample_label = sample_dataset[0]\n",
        "print(f\"Sample image shape: {sample_image.shape}\")\n",
        "print(f\"Sample image value range: [{sample_image.min():.3f}, {sample_image.max():.3f}]\")\n",
        "print(f\"Sample label: {sample_label} ({class_labels[sample_label]})\")"
      ],
      "metadata": {
        "colab": {
          "base_uri": "https://localhost:8080/"
        },
        "id": "rBsHd_2RFztr",
        "outputId": "a43899df-7893-4dbf-9c4e-8b8815ef159d"
      },
      "execution_count": null,
      "outputs": [
        {
          "output_type": "stream",
          "name": "stdout",
          "text": [
            "\n",
            "Testing Dataset Class:\n",
            "Dataset size: 5\n",
            "Sample image shape: (28, 28)\n",
            "Sample image value range: [0.000, 255.000]\n",
            "Sample label: 2 (Pullover)\n"
          ]
        }
      ]
    },
    {
      "cell_type": "code",
      "source": [
        "# Cell 3: Set up data transforms and split dataset (Final correction)\n",
        "# Define transforms for training and validation\n",
        "transform = transforms.Compose([\n",
        "    transforms.ToTensor(),  # Converts to tensor and scales to [0, 1]\n",
        "    transforms.Normalize(mean=[0.5], std=[0.5])  # Normalize to [-1,1]\n",
        "])\n",
        "\n",
        "# Split into train and validation sets (80-20 split)\n",
        "train_df, val_df = train_test_split(\n",
        "    train_data,\n",
        "    test_size=0.2,\n",
        "    random_state=42,\n",
        "    stratify=train_data['label']  # Maintain class distribution in split\n",
        ")\n",
        "\n",
        "# Create datasets with transforms\n",
        "train_dataset = FashionMNISTDataset(train_df, transform=transform)\n",
        "val_dataset = FashionMNISTDataset(val_df, transform=transform)\n",
        "test_dataset = FashionMNISTDataset(test_data, transform=transform)\n",
        "\n",
        "# Verify transformation\n",
        "sample_image, sample_label = train_dataset[0]\n",
        "print(\"\\nVerifying transformed dataset:\")\n",
        "print(f\"Image shape: {sample_image.shape}\")\n",
        "print(f\"Value range: [{sample_image.min():.3f}, {sample_image.max():.3f}]\")\n",
        "print(f\"Label: {sample_label} ({class_labels[sample_label]})\")\n",
        "\n",
        "print(\"\\nDataset Splits:\")\n",
        "print(f\"Training samples: {len(train_dataset)}\")\n",
        "print(f\"Validation samples: {len(val_dataset)}\")\n",
        "print(f\"Test samples: {len(test_dataset)}\")"
      ],
      "metadata": {
        "colab": {
          "base_uri": "https://localhost:8080/"
        },
        "id": "obWvrWE-IXth",
        "outputId": "939e448d-9634-4561-b71c-b1cb2d4d1832"
      },
      "execution_count": null,
      "outputs": [
        {
          "output_type": "stream",
          "name": "stdout",
          "text": [
            "\n",
            "Verifying transformed dataset:\n",
            "Image shape: torch.Size([1, 28, 28])\n",
            "Value range: [-1.000, 1.000]\n",
            "Label: 6 (Shirt)\n",
            "\n",
            "Dataset Splits:\n",
            "Training samples: 48000\n",
            "Validation samples: 12000\n",
            "Test samples: 10000\n"
          ]
        }
      ]
    },
    {
      "cell_type": "code",
      "source": [
        "# Cell 4: Create DataLoaders with proper batch size and settings\n",
        "batch_size = 64  # Standard batch size for training\n",
        "\n",
        "# Create data loaders with optimal settings for GPU training\n",
        "train_loader = torch.utils.data.DataLoader(\n",
        "    train_dataset,\n",
        "    batch_size=batch_size,\n",
        "    shuffle=True,  # Shuffle training data\n",
        "    num_workers=2,  # Parallel data loading\n",
        "    pin_memory=True  # Faster data transfer to GPU\n",
        ")\n",
        "\n",
        "val_loader = torch.utils.data.DataLoader(\n",
        "    val_dataset,\n",
        "    batch_size=batch_size,\n",
        "    shuffle=False,  # No need to shuffle validation data\n",
        "    num_workers=2,\n",
        "    pin_memory=True\n",
        ")\n",
        "\n",
        "test_loader = torch.utils.data.DataLoader(\n",
        "    test_dataset,\n",
        "    batch_size=batch_size,\n",
        "    shuffle=False,\n",
        "    num_workers=2,\n",
        "    pin_memory=True\n",
        ")\n",
        "\n",
        "# Verify DataLoader output\n",
        "for images, labels in train_loader:\n",
        "    print(\"\\nDataLoader Verification:\")\n",
        "    print(f\"Batch shape: {images.shape}\")\n",
        "    print(f\"Labels shape: {labels.shape}\")\n",
        "    print(f\"Value range: [{images.min():.3f}, {images.max():.3f}]\")\n",
        "    print(f\"Sample labels: {labels[:5].tolist()}\")\n",
        "    break  # Just check first batch\n",
        "\n",
        "print(\"\\nDataLoader Sizes:\")\n",
        "print(f\"Number of training batches: {len(train_loader)}\")\n",
        "print(f\"Number of validation batches: {len(val_loader)}\")\n",
        "print(f\"Number of test batches: {len(test_loader)}\")"
      ],
      "metadata": {
        "colab": {
          "base_uri": "https://localhost:8080/"
        },
        "id": "lFY_stIuJuc-",
        "outputId": "a51f0eab-bff3-40ea-d83d-8814e3aaf154"
      },
      "execution_count": null,
      "outputs": [
        {
          "output_type": "stream",
          "name": "stdout",
          "text": [
            "\n",
            "DataLoader Verification:\n",
            "Batch shape: torch.Size([64, 1, 28, 28])\n",
            "Labels shape: torch.Size([64])\n",
            "Value range: [-1.000, 1.000]\n",
            "Sample labels: [4, 5, 6, 2, 5]\n",
            "\n",
            "DataLoader Sizes:\n",
            "Number of training batches: 750\n",
            "Number of validation batches: 188\n",
            "Number of test batches: 157\n"
          ]
        }
      ]
    },
    {
      "cell_type": "code",
      "source": [
        "class FashionCNN(nn.Module):\n",
        "    def __init__(self):\n",
        "        super(FashionCNN, self).__init__()\n",
        "\n",
        "        # First Convolutional Block\n",
        "        self.conv1 = nn.Conv2d(1, 32, kernel_size=3, stride=1, padding=1)\n",
        "        self.bn1 = nn.BatchNorm2d(32)\n",
        "        self.pool1 = nn.MaxPool2d(kernel_size=2, stride=2)\n",
        "\n",
        "        # Second Convolutional Block\n",
        "        self.conv2 = nn.Conv2d(32, 64, kernel_size=3, stride=1, padding=1)\n",
        "        self.bn2 = nn.BatchNorm2d(64)\n",
        "        self.pool2 = nn.MaxPool2d(kernel_size=2, stride=2)\n",
        "\n",
        "        # Calculate size for fully connected layer\n",
        "        self.fc_input_size = 64 * 7 * 7\n",
        "\n",
        "        # Fully Connected Layers\n",
        "        self.fc1 = nn.Linear(self.fc_input_size, 128)\n",
        "        self.dropout = nn.Dropout(0.3)\n",
        "        self.fc2 = nn.Linear(128, 10)\n",
        "\n",
        "    def forward(self, x):\n",
        "        # First Block\n",
        "        x = self.conv1(x)\n",
        "        x = self.bn1(x)\n",
        "        x = F.relu(x)\n",
        "        x = self.pool1(x)\n",
        "\n",
        "        # Second Block\n",
        "        x = self.conv2(x)\n",
        "        x = self.bn2(x)\n",
        "        x = F.relu(x)\n",
        "        x = self.pool2(x)\n",
        "\n",
        "        # Flatten\n",
        "        x = x.view(-1, self.fc_input_size)\n",
        "\n",
        "        # Fully Connected Layers\n",
        "        x = self.fc1(x)\n",
        "        x = F.relu(x)\n",
        "        x = self.dropout(x)\n",
        "        x = self.fc2(x)\n",
        "\n",
        "        return x\n",
        "\n",
        "# Create model and move to GPU\n",
        "model = FashionCNN().to(device)\n",
        "print(model)\n",
        "\n",
        "# Test with larger batch size\n",
        "sample_input = torch.randn(64, 1, 28, 28).to(device)  # [batch_size=32, channels=1, height=28, width=28]\n",
        "sample_output = model(sample_input)\n",
        "print(f\"\\nSample input shape: {sample_input.shape}\")\n",
        "print(f\"Sample output shape: {sample_output.shape}\")"
      ],
      "metadata": {
        "colab": {
          "base_uri": "https://localhost:8080/"
        },
        "id": "vFSvIkU3NVAc",
        "outputId": "f7447410-3809-4489-82b1-c7169431556e"
      },
      "execution_count": null,
      "outputs": [
        {
          "output_type": "stream",
          "name": "stdout",
          "text": [
            "FashionCNN(\n",
            "  (conv1): Conv2d(1, 32, kernel_size=(3, 3), stride=(1, 1), padding=(1, 1))\n",
            "  (bn1): BatchNorm2d(32, eps=1e-05, momentum=0.1, affine=True, track_running_stats=True)\n",
            "  (pool1): MaxPool2d(kernel_size=2, stride=2, padding=0, dilation=1, ceil_mode=False)\n",
            "  (conv2): Conv2d(32, 64, kernel_size=(3, 3), stride=(1, 1), padding=(1, 1))\n",
            "  (bn2): BatchNorm2d(64, eps=1e-05, momentum=0.1, affine=True, track_running_stats=True)\n",
            "  (pool2): MaxPool2d(kernel_size=2, stride=2, padding=0, dilation=1, ceil_mode=False)\n",
            "  (fc1): Linear(in_features=3136, out_features=128, bias=True)\n",
            "  (dropout): Dropout(p=0.3, inplace=False)\n",
            "  (fc2): Linear(in_features=128, out_features=10, bias=True)\n",
            ")\n",
            "\n",
            "Sample input shape: torch.Size([64, 1, 28, 28])\n",
            "Sample output shape: torch.Size([64, 10])\n"
          ]
        }
      ]
    },
    {
      "cell_type": "code",
      "source": [
        "# Cell 3: Training Components Setup\n",
        "import torch.optim as optim\n",
        "from torch.utils.data import DataLoader\n",
        "from tqdm import tqdm\n",
        "\n",
        "# Create data loaders\n",
        "train_loader = DataLoader(\n",
        "    train_dataset,\n",
        "    batch_size=64,\n",
        "    shuffle=True,\n",
        "    num_workers=2,\n",
        "    pin_memory=True\n",
        ")\n",
        "\n",
        "val_loader = DataLoader(\n",
        "    val_dataset,\n",
        "    batch_size=64,\n",
        "    shuffle=False,\n",
        "    num_workers=2,\n",
        "    pin_memory=True\n",
        ")\n",
        "\n",
        "# Loss function\n",
        "criterion = nn.CrossEntropyLoss()\n",
        "\n",
        "# Optimizer with L2 regularization\n",
        "optimizer = optim.Adam(\n",
        "    model.parameters(),\n",
        "    lr=0.01,\n",
        "    weight_decay=1e-4  # L2 regularization\n",
        ")\n",
        "\n",
        "# Learning rate scheduler\n",
        "scheduler = optim.lr_scheduler.ReduceLROnPlateau(\n",
        "    optimizer,\n",
        "    mode='min',\n",
        "    factor=0.1,\n",
        "    patience=5,\n",
        "    verbose=True\n",
        ")\n",
        "\n",
        "# Early stopping setup\n",
        "class EarlyStopping:\n",
        "    def __init__(self, patience=10, min_delta=1e-4):\n",
        "        self.patience = patience\n",
        "        self.min_delta = min_delta\n",
        "        self.counter = 0\n",
        "        self.best_loss = None\n",
        "        self.early_stop = False\n",
        "\n",
        "    def __call__(self, val_loss):\n",
        "        if self.best_loss is None:\n",
        "            self.best_loss = val_loss\n",
        "        elif val_loss > self.best_loss - self.min_delta:\n",
        "            self.counter += 1\n",
        "            print(f'EarlyStopping counter: {self.counter} out of {self.patience}')\n",
        "            if self.counter >= self.patience:\n",
        "                self.early_stop = True\n",
        "        else:\n",
        "            self.best_loss = val_loss\n",
        "            self.counter = 0\n",
        "\n",
        "early_stopping = EarlyStopping()\n",
        "\n",
        "# Verify setup\n",
        "print(f\"Training batches: {len(train_loader)}\")\n",
        "print(f\"Validation batches: {len(val_loader)}\")\n",
        "print(f\"Samples per training batch: {next(iter(train_loader))[0].shape}\")"
      ],
      "metadata": {
        "colab": {
          "base_uri": "https://localhost:8080/"
        },
        "id": "WgXFU-ekS22f",
        "outputId": "e7c9dd95-8d17-4142-d0e8-94fbdebd9447"
      },
      "execution_count": null,
      "outputs": [
        {
          "output_type": "stream",
          "name": "stdout",
          "text": [
            "Training batches: 750\n",
            "Validation batches: 188\n"
          ]
        },
        {
          "output_type": "stream",
          "name": "stderr",
          "text": [
            "/usr/local/lib/python3.11/dist-packages/torch/optim/lr_scheduler.py:62: UserWarning: The verbose parameter is deprecated. Please use get_last_lr() to access the learning rate.\n",
            "  warnings.warn(\n"
          ]
        },
        {
          "output_type": "stream",
          "name": "stdout",
          "text": [
            "Samples per training batch: torch.Size([64, 1, 28, 28])\n"
          ]
        }
      ]
    },
    {
      "cell_type": "code",
      "source": [
        "# Cell 4: Training Loop with Progress Tracking\n",
        "def train_epoch(model, train_loader, criterion, optimizer):\n",
        "    model.train()\n",
        "    running_loss = 0.0\n",
        "    correct = 0\n",
        "    total = 0\n",
        "\n",
        "    # Progress bar for training batches\n",
        "    pbar = tqdm(train_loader, desc='Training')\n",
        "\n",
        "    for inputs, labels in pbar:\n",
        "        inputs, labels = inputs.to(device), labels.to(device)\n",
        "\n",
        "        # Zero the parameter gradients\n",
        "        optimizer.zero_grad()\n",
        "\n",
        "        # Forward pass\n",
        "        outputs = model(inputs)\n",
        "        loss = criterion(outputs, labels)\n",
        "\n",
        "        # Backward pass and optimize\n",
        "        loss.backward()\n",
        "        optimizer.step()\n",
        "\n",
        "        # Statistics\n",
        "        running_loss += loss.item()\n",
        "        _, predicted = outputs.max(1)\n",
        "        total += labels.size(0)\n",
        "        correct += predicted.eq(labels).sum().item()\n",
        "\n",
        "        # Update progress bar\n",
        "        pbar.set_postfix({\n",
        "            'loss': f'{running_loss/total:.3f}',\n",
        "            'acc': f'{100.*correct/total:.2f}%'\n",
        "        })\n",
        "\n",
        "    return running_loss/len(train_loader), correct/total\n",
        "\n",
        "def validate(model, val_loader, criterion):\n",
        "    model.eval()\n",
        "    val_loss = 0.0\n",
        "    correct = 0\n",
        "    total = 0\n",
        "\n",
        "    with torch.no_grad():\n",
        "        for inputs, labels in val_loader:\n",
        "            inputs, labels = inputs.to(device), labels.to(device)\n",
        "\n",
        "            outputs = model(inputs)\n",
        "            loss = criterion(outputs, labels)\n",
        "\n",
        "            val_loss += loss.item()\n",
        "            _, predicted = outputs.max(1)\n",
        "            total += labels.size(0)\n",
        "            correct += predicted.eq(labels).sum().item()\n",
        "\n",
        "    return val_loss/len(val_loader), correct/total\n",
        "\n",
        "# Training history\n",
        "history = {\n",
        "    'train_loss': [],\n",
        "    'train_acc': [],\n",
        "    'val_loss': [],\n",
        "    'val_acc': []\n",
        "}\n",
        "\n",
        "# Main training loop\n",
        "n_epochs = 100\n",
        "best_val_loss = float('inf')\n",
        "\n",
        "print(\"Starting training...\")\n",
        "for epoch in range(n_epochs):\n",
        "    print(f\"\\nEpoch {epoch+1}/{n_epochs}\")\n",
        "\n",
        "    # Training phase\n",
        "    train_loss, train_acc = train_epoch(model, train_loader, criterion, optimizer)\n",
        "\n",
        "    # Validation phase\n",
        "    val_loss, val_acc = validate(model, val_loader, criterion)\n",
        "\n",
        "    # Save metrics\n",
        "    history['train_loss'].append(train_loss)\n",
        "    history['train_acc'].append(train_acc)\n",
        "    history['val_loss'].append(val_loss)\n",
        "    history['val_acc'].append(val_acc)\n",
        "\n",
        "    # Print epoch results\n",
        "    print(f'\\nTrain Loss: {train_loss:.4f} | Train Acc: {train_acc*100:.2f}%')\n",
        "    print(f'Val Loss: {val_loss:.4f} | Val Acc: {val_acc*100:.2f}%')\n",
        "\n",
        "    # Learning rate scheduling\n",
        "    scheduler.step(val_loss)\n",
        "\n",
        "    # Early stopping check\n",
        "    early_stopping(val_loss)\n",
        "    if early_stopping.early_stop:\n",
        "        print(\"Early stopping triggered!\")\n",
        "        break\n",
        "\n",
        "    # Save best model\n",
        "    if val_loss < best_val_loss:\n",
        "        best_val_loss = val_loss\n",
        "        torch.save(model.state_dict(), 'best_model.pth')\n",
        "        print(\"Saved best model!\")\n",
        "\n",
        "print(\"Training finished!\")"
      ],
      "metadata": {
        "colab": {
          "base_uri": "https://localhost:8080/"
        },
        "id": "HdIhnYxbTSNh",
        "outputId": "c42fe297-b1e9-4e46-f12e-4ac91e350053"
      },
      "execution_count": null,
      "outputs": [
        {
          "output_type": "stream",
          "name": "stdout",
          "text": [
            "Starting training...\n",
            "\n",
            "Epoch 1/100\n"
          ]
        },
        {
          "output_type": "stream",
          "name": "stderr",
          "text": [
            "Training: 100%|██████████| 750/750 [00:14<00:00, 50.07it/s, loss=0.013, acc=69.77%]\n"
          ]
        },
        {
          "output_type": "stream",
          "name": "stdout",
          "text": [
            "\n",
            "Train Loss: 0.8520 | Train Acc: 69.77%\n",
            "Val Loss: 0.4069 | Val Acc: 85.12%\n",
            "Saved best model!\n",
            "\n",
            "Epoch 2/100\n"
          ]
        },
        {
          "output_type": "stream",
          "name": "stderr",
          "text": [
            "Training: 100%|██████████| 750/750 [00:13<00:00, 54.21it/s, loss=0.008, acc=80.28%]\n"
          ]
        },
        {
          "output_type": "stream",
          "name": "stdout",
          "text": [
            "\n",
            "Train Loss: 0.5357 | Train Acc: 80.28%\n",
            "Val Loss: 0.3799 | Val Acc: 86.10%\n",
            "Saved best model!\n",
            "\n",
            "Epoch 3/100\n"
          ]
        },
        {
          "output_type": "stream",
          "name": "stderr",
          "text": [
            "Training: 100%|██████████| 750/750 [00:14<00:00, 50.04it/s, loss=0.008, acc=82.25%]\n"
          ]
        },
        {
          "output_type": "stream",
          "name": "stdout",
          "text": [
            "\n",
            "Train Loss: 0.4866 | Train Acc: 82.25%\n",
            "Val Loss: 0.3577 | Val Acc: 87.28%\n",
            "Saved best model!\n",
            "\n",
            "Epoch 4/100\n"
          ]
        },
        {
          "output_type": "stream",
          "name": "stderr",
          "text": [
            "Training: 100%|██████████| 750/750 [00:14<00:00, 51.61it/s, loss=0.007, acc=83.76%]\n"
          ]
        },
        {
          "output_type": "stream",
          "name": "stdout",
          "text": [
            "\n",
            "Train Loss: 0.4457 | Train Acc: 83.76%\n",
            "Val Loss: 0.3459 | Val Acc: 87.30%\n",
            "Saved best model!\n",
            "\n",
            "Epoch 5/100\n"
          ]
        },
        {
          "output_type": "stream",
          "name": "stderr",
          "text": [
            "Training: 100%|██████████| 750/750 [00:14<00:00, 53.18it/s, loss=0.007, acc=84.24%]\n"
          ]
        },
        {
          "output_type": "stream",
          "name": "stdout",
          "text": [
            "\n",
            "Train Loss: 0.4335 | Train Acc: 84.24%\n",
            "Val Loss: 0.3256 | Val Acc: 88.04%\n",
            "Saved best model!\n",
            "\n",
            "Epoch 6/100\n"
          ]
        },
        {
          "output_type": "stream",
          "name": "stderr",
          "text": [
            "Training: 100%|██████████| 750/750 [00:14<00:00, 53.44it/s, loss=0.006, acc=85.34%]\n"
          ]
        },
        {
          "output_type": "stream",
          "name": "stdout",
          "text": [
            "\n",
            "Train Loss: 0.4071 | Train Acc: 85.34%\n",
            "Val Loss: 0.3362 | Val Acc: 87.75%\n",
            "EarlyStopping counter: 1 out of 10\n",
            "\n",
            "Epoch 7/100\n"
          ]
        },
        {
          "output_type": "stream",
          "name": "stderr",
          "text": [
            "Training: 100%|██████████| 750/750 [00:14<00:00, 52.70it/s, loss=0.006, acc=85.93%]\n"
          ]
        },
        {
          "output_type": "stream",
          "name": "stdout",
          "text": [
            "\n",
            "Train Loss: 0.3908 | Train Acc: 85.93%\n",
            "Val Loss: 0.3283 | Val Acc: 88.08%\n",
            "EarlyStopping counter: 2 out of 10\n",
            "\n",
            "Epoch 8/100\n"
          ]
        },
        {
          "output_type": "stream",
          "name": "stderr",
          "text": [
            "Training: 100%|██████████| 750/750 [00:14<00:00, 52.71it/s, loss=0.006, acc=86.15%]\n"
          ]
        },
        {
          "output_type": "stream",
          "name": "stdout",
          "text": [
            "\n",
            "Train Loss: 0.3826 | Train Acc: 86.15%\n",
            "Val Loss: 0.3375 | Val Acc: 87.42%\n",
            "EarlyStopping counter: 3 out of 10\n",
            "\n",
            "Epoch 9/100\n"
          ]
        },
        {
          "output_type": "stream",
          "name": "stderr",
          "text": [
            "Training: 100%|██████████| 750/750 [00:14<00:00, 52.81it/s, loss=0.006, acc=86.55%]\n"
          ]
        },
        {
          "output_type": "stream",
          "name": "stdout",
          "text": [
            "\n",
            "Train Loss: 0.3733 | Train Acc: 86.55%\n",
            "Val Loss: 0.3475 | Val Acc: 88.17%\n",
            "EarlyStopping counter: 4 out of 10\n",
            "\n",
            "Epoch 10/100\n"
          ]
        },
        {
          "output_type": "stream",
          "name": "stderr",
          "text": [
            "Training: 100%|██████████| 750/750 [00:14<00:00, 52.53it/s, loss=0.006, acc=87.08%]\n"
          ]
        },
        {
          "output_type": "stream",
          "name": "stdout",
          "text": [
            "\n",
            "Train Loss: 0.3609 | Train Acc: 87.08%\n",
            "Val Loss: 0.3491 | Val Acc: 87.62%\n",
            "EarlyStopping counter: 5 out of 10\n",
            "\n",
            "Epoch 11/100\n"
          ]
        },
        {
          "output_type": "stream",
          "name": "stderr",
          "text": [
            "Training: 100%|██████████| 750/750 [00:14<00:00, 52.91it/s, loss=0.006, acc=87.01%]\n"
          ]
        },
        {
          "output_type": "stream",
          "name": "stdout",
          "text": [
            "\n",
            "Train Loss: 0.3555 | Train Acc: 87.01%\n",
            "Val Loss: 0.3209 | Val Acc: 88.29%\n",
            "Saved best model!\n",
            "\n",
            "Epoch 12/100\n"
          ]
        },
        {
          "output_type": "stream",
          "name": "stderr",
          "text": [
            "Training: 100%|██████████| 750/750 [00:14<00:00, 52.89it/s, loss=0.006, acc=87.16%]\n"
          ]
        },
        {
          "output_type": "stream",
          "name": "stdout",
          "text": [
            "\n",
            "Train Loss: 0.3530 | Train Acc: 87.16%\n",
            "Val Loss: 0.3140 | Val Acc: 88.86%\n",
            "Saved best model!\n",
            "\n",
            "Epoch 13/100\n"
          ]
        },
        {
          "output_type": "stream",
          "name": "stderr",
          "text": [
            "Training: 100%|██████████| 750/750 [00:14<00:00, 52.72it/s, loss=0.005, acc=87.55%]\n"
          ]
        },
        {
          "output_type": "stream",
          "name": "stdout",
          "text": [
            "\n",
            "Train Loss: 0.3434 | Train Acc: 87.55%\n",
            "Val Loss: 0.3181 | Val Acc: 88.36%\n",
            "EarlyStopping counter: 1 out of 10\n",
            "\n",
            "Epoch 14/100\n"
          ]
        },
        {
          "output_type": "stream",
          "name": "stderr",
          "text": [
            "Training: 100%|██████████| 750/750 [00:14<00:00, 51.36it/s, loss=0.005, acc=87.62%]\n"
          ]
        },
        {
          "output_type": "stream",
          "name": "stdout",
          "text": [
            "\n",
            "Train Loss: 0.3471 | Train Acc: 87.62%\n",
            "Val Loss: 0.3172 | Val Acc: 88.58%\n",
            "EarlyStopping counter: 2 out of 10\n",
            "\n",
            "Epoch 15/100\n"
          ]
        },
        {
          "output_type": "stream",
          "name": "stderr",
          "text": [
            "Training: 100%|██████████| 750/750 [00:14<00:00, 52.18it/s, loss=0.005, acc=87.89%]\n"
          ]
        },
        {
          "output_type": "stream",
          "name": "stdout",
          "text": [
            "\n",
            "Train Loss: 0.3356 | Train Acc: 87.89%\n",
            "Val Loss: 0.3026 | Val Acc: 89.04%\n",
            "Saved best model!\n",
            "\n",
            "Epoch 16/100\n"
          ]
        },
        {
          "output_type": "stream",
          "name": "stderr",
          "text": [
            "Training: 100%|██████████| 750/750 [00:14<00:00, 52.60it/s, loss=0.005, acc=87.97%]\n"
          ]
        },
        {
          "output_type": "stream",
          "name": "stdout",
          "text": [
            "\n",
            "Train Loss: 0.3403 | Train Acc: 87.98%\n",
            "Val Loss: 0.2986 | Val Acc: 89.20%\n",
            "Saved best model!\n",
            "\n",
            "Epoch 17/100\n"
          ]
        },
        {
          "output_type": "stream",
          "name": "stderr",
          "text": [
            "Training: 100%|██████████| 750/750 [00:14<00:00, 50.95it/s, loss=0.005, acc=87.95%]\n"
          ]
        },
        {
          "output_type": "stream",
          "name": "stdout",
          "text": [
            "\n",
            "Train Loss: 0.3323 | Train Acc: 87.95%\n",
            "Val Loss: 0.2949 | Val Acc: 89.23%\n",
            "Saved best model!\n",
            "\n",
            "Epoch 18/100\n"
          ]
        },
        {
          "output_type": "stream",
          "name": "stderr",
          "text": [
            "Training: 100%|██████████| 750/750 [00:14<00:00, 52.89it/s, loss=0.005, acc=88.07%]\n"
          ]
        },
        {
          "output_type": "stream",
          "name": "stdout",
          "text": [
            "\n",
            "Train Loss: 0.3316 | Train Acc: 88.07%\n",
            "Val Loss: 0.3000 | Val Acc: 89.12%\n",
            "EarlyStopping counter: 1 out of 10\n",
            "\n",
            "Epoch 19/100\n"
          ]
        },
        {
          "output_type": "stream",
          "name": "stderr",
          "text": [
            "Training: 100%|██████████| 750/750 [00:14<00:00, 52.34it/s, loss=0.005, acc=88.31%]\n"
          ]
        },
        {
          "output_type": "stream",
          "name": "stdout",
          "text": [
            "\n",
            "Train Loss: 0.3282 | Train Acc: 88.31%\n",
            "Val Loss: 0.3046 | Val Acc: 89.37%\n",
            "EarlyStopping counter: 2 out of 10\n",
            "\n",
            "Epoch 20/100\n"
          ]
        },
        {
          "output_type": "stream",
          "name": "stderr",
          "text": [
            "Training: 100%|██████████| 750/750 [00:14<00:00, 52.67it/s, loss=0.005, acc=88.19%]\n"
          ]
        },
        {
          "output_type": "stream",
          "name": "stdout",
          "text": [
            "\n",
            "Train Loss: 0.3254 | Train Acc: 88.19%\n",
            "Val Loss: 0.2941 | Val Acc: 89.18%\n",
            "Saved best model!\n",
            "\n",
            "Epoch 21/100\n"
          ]
        },
        {
          "output_type": "stream",
          "name": "stderr",
          "text": [
            "Training: 100%|██████████| 750/750 [00:14<00:00, 52.53it/s, loss=0.005, acc=88.11%]\n"
          ]
        },
        {
          "output_type": "stream",
          "name": "stdout",
          "text": [
            "\n",
            "Train Loss: 0.3273 | Train Acc: 88.11%\n",
            "Val Loss: 0.3035 | Val Acc: 89.01%\n",
            "EarlyStopping counter: 1 out of 10\n",
            "\n",
            "Epoch 22/100\n"
          ]
        },
        {
          "output_type": "stream",
          "name": "stderr",
          "text": [
            "Training: 100%|██████████| 750/750 [00:14<00:00, 52.57it/s, loss=0.005, acc=88.20%]\n"
          ]
        },
        {
          "output_type": "stream",
          "name": "stdout",
          "text": [
            "\n",
            "Train Loss: 0.3251 | Train Acc: 88.20%\n",
            "Val Loss: 0.3050 | Val Acc: 89.10%\n",
            "EarlyStopping counter: 2 out of 10\n",
            "\n",
            "Epoch 23/100\n"
          ]
        },
        {
          "output_type": "stream",
          "name": "stderr",
          "text": [
            "Training: 100%|██████████| 750/750 [00:14<00:00, 53.16it/s, loss=0.005, acc=88.37%]\n"
          ]
        },
        {
          "output_type": "stream",
          "name": "stdout",
          "text": [
            "\n",
            "Train Loss: 0.3210 | Train Acc: 88.37%\n",
            "Val Loss: 0.3092 | Val Acc: 89.24%\n",
            "EarlyStopping counter: 3 out of 10\n",
            "\n",
            "Epoch 24/100\n"
          ]
        },
        {
          "output_type": "stream",
          "name": "stderr",
          "text": [
            "Training: 100%|██████████| 750/750 [00:14<00:00, 52.47it/s, loss=0.005, acc=88.31%]\n"
          ]
        },
        {
          "output_type": "stream",
          "name": "stdout",
          "text": [
            "\n",
            "Train Loss: 0.3237 | Train Acc: 88.31%\n",
            "Val Loss: 0.3029 | Val Acc: 89.42%\n",
            "EarlyStopping counter: 4 out of 10\n",
            "\n",
            "Epoch 25/100\n"
          ]
        },
        {
          "output_type": "stream",
          "name": "stderr",
          "text": [
            "Training: 100%|██████████| 750/750 [00:14<00:00, 53.30it/s, loss=0.005, acc=88.34%]\n"
          ]
        },
        {
          "output_type": "stream",
          "name": "stdout",
          "text": [
            "\n",
            "Train Loss: 0.3200 | Train Acc: 88.34%\n",
            "Val Loss: 0.2982 | Val Acc: 89.20%\n",
            "EarlyStopping counter: 5 out of 10\n",
            "\n",
            "Epoch 26/100\n"
          ]
        },
        {
          "output_type": "stream",
          "name": "stderr",
          "text": [
            "Training: 100%|██████████| 750/750 [00:14<00:00, 52.71it/s, loss=0.005, acc=88.57%]\n"
          ]
        },
        {
          "output_type": "stream",
          "name": "stdout",
          "text": [
            "\n",
            "Train Loss: 0.3193 | Train Acc: 88.57%\n",
            "Val Loss: 0.3204 | Val Acc: 88.41%\n",
            "EarlyStopping counter: 6 out of 10\n",
            "\n",
            "Epoch 27/100\n"
          ]
        },
        {
          "output_type": "stream",
          "name": "stderr",
          "text": [
            "Training: 100%|██████████| 750/750 [00:14<00:00, 51.54it/s, loss=0.004, acc=90.87%]\n"
          ]
        },
        {
          "output_type": "stream",
          "name": "stdout",
          "text": [
            "\n",
            "Train Loss: 0.2479 | Train Acc: 90.87%\n",
            "Val Loss: 0.2645 | Val Acc: 90.66%\n",
            "Saved best model!\n",
            "\n",
            "Epoch 28/100\n"
          ]
        },
        {
          "output_type": "stream",
          "name": "stderr",
          "text": [
            "Training: 100%|██████████| 750/750 [00:14<00:00, 53.05it/s, loss=0.004, acc=91.81%]\n"
          ]
        },
        {
          "output_type": "stream",
          "name": "stdout",
          "text": [
            "\n",
            "Train Loss: 0.2249 | Train Acc: 91.81%\n",
            "Val Loss: 0.2563 | Val Acc: 90.78%\n",
            "Saved best model!\n",
            "\n",
            "Epoch 29/100\n"
          ]
        },
        {
          "output_type": "stream",
          "name": "stderr",
          "text": [
            "Training: 100%|██████████| 750/750 [00:14<00:00, 51.81it/s, loss=0.003, acc=92.34%]\n"
          ]
        },
        {
          "output_type": "stream",
          "name": "stdout",
          "text": [
            "\n",
            "Train Loss: 0.2091 | Train Acc: 92.34%\n",
            "Val Loss: 0.2556 | Val Acc: 90.90%\n",
            "Saved best model!\n",
            "\n",
            "Epoch 30/100\n"
          ]
        },
        {
          "output_type": "stream",
          "name": "stderr",
          "text": [
            "Training: 100%|██████████| 750/750 [00:15<00:00, 49.45it/s, loss=0.003, acc=92.55%]\n"
          ]
        },
        {
          "output_type": "stream",
          "name": "stdout",
          "text": [
            "\n",
            "Train Loss: 0.1996 | Train Acc: 92.55%\n",
            "Val Loss: 0.2538 | Val Acc: 91.01%\n",
            "Saved best model!\n",
            "\n",
            "Epoch 31/100\n"
          ]
        },
        {
          "output_type": "stream",
          "name": "stderr",
          "text": [
            "Training: 100%|██████████| 750/750 [00:14<00:00, 51.89it/s, loss=0.003, acc=93.03%]\n"
          ]
        },
        {
          "output_type": "stream",
          "name": "stdout",
          "text": [
            "\n",
            "Train Loss: 0.1903 | Train Acc: 93.03%\n",
            "Val Loss: 0.2589 | Val Acc: 90.92%\n",
            "EarlyStopping counter: 1 out of 10\n",
            "\n",
            "Epoch 32/100\n"
          ]
        },
        {
          "output_type": "stream",
          "name": "stderr",
          "text": [
            "Training: 100%|██████████| 750/750 [00:14<00:00, 51.80it/s, loss=0.003, acc=93.34%]\n"
          ]
        },
        {
          "output_type": "stream",
          "name": "stdout",
          "text": [
            "\n",
            "Train Loss: 0.1793 | Train Acc: 93.34%\n",
            "Val Loss: 0.2578 | Val Acc: 91.15%\n",
            "EarlyStopping counter: 2 out of 10\n",
            "\n",
            "Epoch 33/100\n"
          ]
        },
        {
          "output_type": "stream",
          "name": "stderr",
          "text": [
            "Training: 100%|██████████| 750/750 [00:15<00:00, 49.50it/s, loss=0.003, acc=93.50%]\n"
          ]
        },
        {
          "output_type": "stream",
          "name": "stdout",
          "text": [
            "\n",
            "Train Loss: 0.1726 | Train Acc: 93.50%\n",
            "Val Loss: 0.2591 | Val Acc: 90.97%\n",
            "EarlyStopping counter: 3 out of 10\n",
            "\n",
            "Epoch 34/100\n"
          ]
        },
        {
          "output_type": "stream",
          "name": "stderr",
          "text": [
            "Training: 100%|██████████| 750/750 [00:14<00:00, 51.99it/s, loss=0.003, acc=93.94%]\n"
          ]
        },
        {
          "output_type": "stream",
          "name": "stdout",
          "text": [
            "\n",
            "Train Loss: 0.1665 | Train Acc: 93.94%\n",
            "Val Loss: 0.2588 | Val Acc: 90.98%\n",
            "EarlyStopping counter: 4 out of 10\n",
            "\n",
            "Epoch 35/100\n"
          ]
        },
        {
          "output_type": "stream",
          "name": "stderr",
          "text": [
            "Training: 100%|██████████| 750/750 [00:14<00:00, 51.78it/s, loss=0.002, acc=94.10%]\n"
          ]
        },
        {
          "output_type": "stream",
          "name": "stdout",
          "text": [
            "\n",
            "Train Loss: 0.1584 | Train Acc: 94.10%\n",
            "Val Loss: 0.2714 | Val Acc: 91.00%\n",
            "EarlyStopping counter: 5 out of 10\n",
            "\n",
            "Epoch 36/100\n"
          ]
        },
        {
          "output_type": "stream",
          "name": "stderr",
          "text": [
            "Training: 100%|██████████| 750/750 [00:15<00:00, 49.17it/s, loss=0.002, acc=94.30%]\n"
          ]
        },
        {
          "output_type": "stream",
          "name": "stdout",
          "text": [
            "\n",
            "Train Loss: 0.1539 | Train Acc: 94.30%\n",
            "Val Loss: 0.2685 | Val Acc: 91.08%\n",
            "EarlyStopping counter: 6 out of 10\n",
            "\n",
            "Epoch 37/100\n"
          ]
        },
        {
          "output_type": "stream",
          "name": "stderr",
          "text": [
            "Training: 100%|██████████| 750/750 [00:14<00:00, 51.43it/s, loss=0.002, acc=95.14%]\n"
          ]
        },
        {
          "output_type": "stream",
          "name": "stdout",
          "text": [
            "\n",
            "Train Loss: 0.1334 | Train Acc: 95.14%\n",
            "Val Loss: 0.2703 | Val Acc: 91.04%\n",
            "EarlyStopping counter: 7 out of 10\n",
            "\n",
            "Epoch 38/100\n"
          ]
        },
        {
          "output_type": "stream",
          "name": "stderr",
          "text": [
            "Training: 100%|██████████| 750/750 [00:14<00:00, 52.38it/s, loss=0.002, acc=95.26%]\n"
          ]
        },
        {
          "output_type": "stream",
          "name": "stdout",
          "text": [
            "\n",
            "Train Loss: 0.1297 | Train Acc: 95.26%\n",
            "Val Loss: 0.2688 | Val Acc: 91.06%\n",
            "EarlyStopping counter: 8 out of 10\n",
            "\n",
            "Epoch 39/100\n"
          ]
        },
        {
          "output_type": "stream",
          "name": "stderr",
          "text": [
            "Training: 100%|██████████| 750/750 [00:14<00:00, 51.58it/s, loss=0.002, acc=95.39%]\n"
          ]
        },
        {
          "output_type": "stream",
          "name": "stdout",
          "text": [
            "\n",
            "Train Loss: 0.1265 | Train Acc: 95.39%\n",
            "Val Loss: 0.2741 | Val Acc: 91.16%\n",
            "EarlyStopping counter: 9 out of 10\n",
            "\n",
            "Epoch 40/100\n"
          ]
        },
        {
          "output_type": "stream",
          "name": "stderr",
          "text": [
            "Training: 100%|██████████| 750/750 [00:14<00:00, 51.19it/s, loss=0.002, acc=95.46%]\n"
          ]
        },
        {
          "output_type": "stream",
          "name": "stdout",
          "text": [
            "\n",
            "Train Loss: 0.1246 | Train Acc: 95.46%\n",
            "Val Loss: 0.2718 | Val Acc: 91.20%\n",
            "EarlyStopping counter: 10 out of 10\n",
            "Early stopping triggered!\n",
            "Training finished!\n"
          ]
        }
      ]
    },
    {
      "cell_type": "code",
      "source": [
        "# Cell 5: Test Set Evaluation\n",
        "def test_model(model, test_loader):\n",
        "    model.eval()\n",
        "    correct = 0\n",
        "    total = 0\n",
        "    all_predictions = []\n",
        "    all_labels = []\n",
        "\n",
        "    print(\"Evaluating on test set...\")\n",
        "    with torch.no_grad():\n",
        "        for inputs, labels in tqdm(test_loader, desc='Testing'):\n",
        "            inputs, labels = inputs.to(device), labels.to(device)\n",
        "\n",
        "            # Forward pass\n",
        "            outputs = model(inputs)\n",
        "            _, predicted = outputs.max(1)\n",
        "\n",
        "            # Statistics\n",
        "            total += labels.size(0)\n",
        "            correct += predicted.eq(labels).sum().item()\n",
        "\n",
        "            # Store predictions and labels for confusion matrix\n",
        "            all_predictions.extend(predicted.cpu().numpy())\n",
        "            all_labels.extend(labels.cpu().numpy())\n",
        "\n",
        "    # Calculate accuracy\n",
        "    test_accuracy = 100. * correct / total\n",
        "\n",
        "    # Print results\n",
        "    print(f'\\nTest Set Results:')\n",
        "    print(f'Accuracy: {test_accuracy:.2f}%')\n",
        "\n",
        "    # Print per-class accuracy\n",
        "    class_correct = list(0. for i in range(10))\n",
        "    class_total = list(0. for i in range(10))\n",
        "\n",
        "    for label, pred in zip(all_labels, all_predictions):\n",
        "        if label == pred:\n",
        "            class_correct[label] += 1\n",
        "        class_total[label] += 1\n",
        "\n",
        "    print('\\nPer-class Accuracy:')\n",
        "    for i in range(10):\n",
        "        accuracy = 100 * class_correct[i] / class_total[i]\n",
        "        print(f'{class_labels[i]}: {accuracy:.2f}%')\n",
        "\n",
        "    return test_accuracy, all_predictions, all_labels\n",
        "\n",
        "# Load the best model\n",
        "model.load_state_dict(torch.load('best_model.pth'))\n",
        "model.eval()\n",
        "\n",
        "# Create test data loader if not already created\n",
        "test_loader = DataLoader(\n",
        "    test_dataset,\n",
        "    batch_size=64,\n",
        "    shuffle=False,\n",
        "    num_workers=2,\n",
        "    pin_memory=True\n",
        ")\n",
        "\n",
        "# Evaluate on test set\n",
        "test_accuracy, predictions, true_labels = test_model(model, test_loader)"
      ],
      "metadata": {
        "colab": {
          "base_uri": "https://localhost:8080/"
        },
        "id": "GkT6o29OXKFz",
        "outputId": "747e818f-55d1-48df-9a5f-f19a6660b8b9"
      },
      "execution_count": null,
      "outputs": [
        {
          "output_type": "stream",
          "name": "stdout",
          "text": [
            "Evaluating on test set...\n"
          ]
        },
        {
          "output_type": "stream",
          "name": "stderr",
          "text": [
            "Testing: 100%|██████████| 157/157 [00:02<00:00, 56.69it/s]"
          ]
        },
        {
          "output_type": "stream",
          "name": "stdout",
          "text": [
            "\n",
            "Test Set Results:\n",
            "Accuracy: 91.45%\n",
            "\n",
            "Per-class Accuracy:\n",
            "T-shirt/Top: 85.50%\n",
            "Trouser: 98.60%\n",
            "Pullover: 89.20%\n",
            "Dress: 90.70%\n",
            "Coat: 89.20%\n",
            "Sandal: 97.40%\n",
            "Shirt: 72.50%\n",
            "Sneaker: 95.20%\n",
            "Bag: 98.30%\n",
            "Ankle Boot: 97.90%\n"
          ]
        },
        {
          "output_type": "stream",
          "name": "stderr",
          "text": [
            "\n"
          ]
        }
      ]
    },
    {
      "cell_type": "code",
      "source": [
        "# Cell 6: Confusion Matrix Analysis\n",
        "import seaborn as sns\n",
        "from sklearn.metrics import confusion_matrix\n",
        "import matplotlib.pyplot as plt\n",
        "\n",
        "# Create confusion matrix\n",
        "cm = confusion_matrix(true_labels, predictions)\n",
        "\n",
        "# Create labels for better visualization\n",
        "class_names = list(class_labels.values())\n",
        "\n",
        "# Plot confusion matrix\n",
        "plt.figure(figsize=(12, 10))\n",
        "sns.heatmap(cm, annot=True, fmt='d', cmap='Blues',\n",
        "            xticklabels=class_names,\n",
        "            yticklabels=class_names)\n",
        "plt.title('Confusion Matrix on Test Set')\n",
        "plt.xlabel('Predicted Label')\n",
        "plt.ylabel('True Label')\n",
        "plt.xticks(rotation=45, ha='right')\n",
        "plt.yticks(rotation=0)\n",
        "plt.tight_layout()\n",
        "plt.show()\n",
        "\n",
        "# Calculate and display most common misclassifications\n",
        "print(\"\\nTop Misclassifications:\")\n",
        "misclassifications = []\n",
        "for i in range(10):\n",
        "    for j in range(10):\n",
        "        if i != j:  # Skip correct classifications\n",
        "            misclassifications.append({\n",
        "                'true': class_names[i],\n",
        "                'predicted': class_names[j],\n",
        "                'count': cm[i][j]\n",
        "            })\n",
        "\n",
        "# Sort by count and display top 5\n",
        "misclassifications.sort(key=lambda x: x['count'], reverse=True)\n",
        "print(\"\\nTop 5 Confusion Pairs:\")\n",
        "for i in range(5):\n",
        "    misc = misclassifications[i]\n",
        "    print(f\"{misc['true']} predicted as {misc['predicted']}: {misc['count']} times\")\n",
        "\n",
        "# Calculate per-class precision and recall\n",
        "print(\"\\nPer-class Analysis:\")\n",
        "for i in range(10):\n",
        "    precision = cm[i][i] / cm[:, i].sum() * 100\n",
        "    recall = cm[i][i] / cm[i, :].sum() * 100\n",
        "    print(f\"\\n{class_names[i]}:\")\n",
        "    print(f\"Precision: {precision:.2f}%\")\n",
        "    print(f\"Recall: {recall:.2f}%\")"
      ],
      "metadata": {
        "colab": {
          "base_uri": "https://localhost:8080/",
          "height": 1000
        },
        "id": "i17ubjNjYD0S",
        "outputId": "e87ff419-d3b0-4122-c420-6bd63cd1bb04"
      },
      "execution_count": null,
      "outputs": [
        {
          "output_type": "display_data",
          "data": {
            "text/plain": [
              "<Figure size 1200x1000 with 2 Axes>"
            ],
            "image/png": "[encoded data removed]"
          },
          "metadata": {}
        },
        {
          "output_type": "stream",
          "name": "stdout",
          "text": [
            "\n",
            "Top Misclassifications:\n",
            "\n",
            "Top 5 Confusion Pairs:\n",
            "Shirt predicted as T-shirt/Top: 106 times\n",
            "T-shirt/Top predicted as Shirt: 94 times\n",
            "Shirt predicted as Coat: 77 times\n",
            "Shirt predicted as Pullover: 60 times\n",
            "Pullover predicted as Coat: 52 times\n",
            "\n",
            "Per-class Analysis:\n",
            "\n",
            "T-shirt/Top:\n",
            "Precision: 86.45%\n",
            "Recall: 85.50%\n",
            "\n",
            "Trouser:\n",
            "Precision: 99.00%\n",
            "Recall: 98.60%\n",
            "\n",
            "Pullover:\n",
            "Precision: 86.94%\n",
            "Recall: 89.20%\n",
            "\n",
            "Dress:\n",
            "Precision: 92.65%\n",
            "Recall: 90.70%\n",
            "\n",
            "Coat:\n",
            "Precision: 83.36%\n",
            "Recall: 89.20%\n",
            "\n",
            "Sandal:\n",
            "Precision: 98.98%\n",
            "Recall: 97.40%\n",
            "\n",
            "Shirt:\n",
            "Precision: 77.79%\n",
            "Recall: 72.50%\n",
            "\n",
            "Sneaker:\n",
            "Precision: 96.16%\n",
            "Recall: 95.20%\n",
            "\n",
            "Bag:\n",
            "Precision: 97.62%\n",
            "Recall: 98.30%\n",
            "\n",
            "Ankle Boot:\n",
            "Precision: 95.33%\n",
            "Recall: 97.90%\n"
          ]
        }
      ]
    }
  ]
}